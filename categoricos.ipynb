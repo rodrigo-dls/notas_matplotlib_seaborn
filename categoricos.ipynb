{
 "cells": [
  {
   "cell_type": "markdown",
   "metadata": {},
   "source": []
  },
  {
   "cell_type": "markdown",
   "metadata": {},
   "source": []
  },
  {
   "cell_type": "code",
   "execution_count": null,
   "metadata": {},
   "outputs": [],
   "source": []
  }
 ],
 "metadata": {
  "kernelspec": {
   "display_name": "Python 3.10.4 ('curso_matplotlib_seaborn')",
   "language": "python",
   "name": "python3"
  },
  "language_info": {
   "name": "python",
   "version": "3.10.4"
  },
  "orig_nbformat": 4,
  "vscode": {
   "interpreter": {
    "hash": "1e64ed205a70a7170c6196507c82abb808f3c5ed2ff89656ad0407e07650b487"
   }
  }
 },
 "nbformat": 4,
 "nbformat_minor": 2
}
