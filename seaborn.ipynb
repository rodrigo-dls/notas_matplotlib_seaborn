{
 "cells": [
  {
   "cell_type": "markdown",
   "metadata": {},
   "source": [
    "#### Notas sobre la librería `Seaborn`, recopiladas a partir de:\n",
    "- [curso de Platzi de Visualización de Datos con Matplotlib y Seaborn](https://platzi.com/cursos/matplotlib-seaborn/)\n",
    "\n",
    "# Seaborn"
   ]
  },
  {
   "cell_type": "markdown",
   "metadata": {},
   "source": [
    "Seaborn es una librería construida sobre Matplotlib, por lo que hereda todas las bondades de la misma. Fue escrita por Michael Waskom y está integrada para estructuras de Pandas por lo que está optimizada para funcionar con DataFrames.\n",
    "\n",
    "### Cuáles son las ventajas de Seaborn\n",
    "\n",
    "Seaborn tiene diferentes ventajas y entre ellas encuentras principalmente:\n",
    "\n",
    "- Tiene una gran velocidad\n",
    "- Facilidad para escribir código\n",
    "- Altamente customizable entre gráficas y visualizaciones\n",
    "\n",
    "### Cuál es la estructura Básica de Seaborn\n",
    "```\n",
    "sns.'Tipo de Grafica'(\n",
    "\t\t data='Dataset',\n",
    "\t\t x='Data en el eje x',\n",
    "\t\t y='Data en el eje y',\n",
    "\t\t hue='Variable de agrupamiento')\n",
    "```\n",
    "### Tipos de Gráficas que tiene Seaborn\n",
    "\n",
    "Seaborn ofrece ciertas características principales para problemas específicos de visualización de datos:\n",
    "\n",
    "- Diagramas o gráficas relacionables\n",
    "- Distribución de datos\n",
    "- Graficar variables categóricas\n",
    "\n",
    "Por ejemplo:\n",
    "\n",
    "- __Relplot (relacional):__ scatterplot, lineplot.\n",
    "- __Displot (distribuciones):__ histplot, kdeplot, ecdfplot, rugplot.\n",
    "- __Catplot (categorica):__ stripplot, swamplot, boxplot, violinplot, pointplot, barplot.\n"
   ]
  },
  {
   "cell_type": "markdown",
   "metadata": {},
   "source": [
    "## Set\n",
    "Herramiento para configurar el estilo"
   ]
  },
  {
   "cell_type": "code",
   "execution_count": 3,
   "metadata": {},
   "outputs": [],
   "source": [
    "import seaborn as sns\n",
    "import matplotlib.pyplot as plt"
   ]
  },
  {
   "cell_type": "code",
   "execution_count": 6,
   "metadata": {},
   "outputs": [
    {
     "data": {
      "image/png": "[encoded data removed]",
      "text/plain": [
       "<Figure size 640x480 with 1 Axes>"
      ]
     },
     "metadata": {},
     "output_type": "display_data"
    }
   ],
   "source": [
    "sns.barplot(x=['A', 'B', 'C'],\n",
    "            y=[1,3,2]\n",
    "            )\n",
    "plt.show()"
   ]
  },
  {
   "cell_type": "code",
   "execution_count": 17,
   "metadata": {},
   "outputs": [
    {
     "data": {
      "image/png": "[encoded data removed]",
      "text/plain": [
       "<Figure size 640x480 with 1 Axes>"
      ]
     },
     "metadata": {},
     "output_type": "display_data"
    }
   ],
   "source": [
    "sns.set(style='dark', palette='dark', font=\"Verdana\", font_scale=1)\n",
    "sns.barplot(x=['A', 'B', 'C'],\n",
    "            y=[1,3,2]\n",
    "            )\n",
    "plt.show()"
   ]
  },
  {
   "cell_type": "markdown",
   "metadata": {},
   "source": [
    "### ¿Qué necesitas saber al usar Set?\n",
    "\n",
    "- Este parámetro afecta a todas las gráficas que creamos, incluidas las que no usan Seaborn.\n",
    "- Podemos resetear los valores utilizando el método reset_orig.\n",
    "- Este parámetro es un atajo de set_theme, que es el recomendado según la documentación"
   ]
  },
  {
   "cell_type": "code",
   "execution_count": null,
   "metadata": {},
   "outputs": [],
   "source": []
  }
 ],
 "metadata": {
  "kernelspec": {
   "display_name": "Python 3.10.4 ('curso_matplotlib_seaborn')",
   "language": "python",
   "name": "python3"
  },
  "language_info": {
   "codemirror_mode": {
    "name": "ipython",
    "version": 3
   },
   "file_extension": ".py",
   "mimetype": "text/x-python",
   "name": "python",
   "nbconvert_exporter": "python",
   "pygments_lexer": "ipython3",
   "version": "3.10.4"
  },
  "orig_nbformat": 4,
  "vscode": {
   "interpreter": {
    "hash": "1e64ed205a70a7170c6196507c82abb808f3c5ed2ff89656ad0407e07650b487"
   }
  }
 },
 "nbformat": 4,
 "nbformat_minor": 2
}
